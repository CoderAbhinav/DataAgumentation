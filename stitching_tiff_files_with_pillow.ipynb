{
 "metadata": {
  "language_info": {
   "codemirror_mode": {
    "name": "ipython",
    "version": 3
   },
   "file_extension": ".py",
   "mimetype": "text/x-python",
   "name": "python",
   "nbconvert_exporter": "python",
   "pygments_lexer": "ipython3",
   "version": "3.8.5"
  },
  "orig_nbformat": 4,
  "kernelspec": {
   "name": "python3",
   "display_name": "Python 3.8.5 64-bit"
  },
  "interpreter": {
   "hash": "916dbcbb3f70747c44a77c7bcd40155683ae19c65e1c03b4aa3499c5328201f1"
  }
 },
 "nbformat": 4,
 "nbformat_minor": 2,
 "cells": [
  {
   "cell_type": "code",
   "execution_count": 2,
   "metadata": {},
   "outputs": [],
   "source": [
    "from PIL import Image"
   ]
  },
  {
   "source": [
    "## converting tiff to JPG"
   ],
   "cell_type": "markdown",
   "metadata": {}
  },
  {
   "cell_type": "code",
   "execution_count": 3,
   "metadata": {},
   "outputs": [
    {
     "output_type": "stream",
     "name": "stdout",
     "text": [
      "(9354, 6614)\n"
     ]
    }
   ],
   "source": [
    "im_ = Image.open(\"guj.tif\")\n",
    "print(im_.size)\n",
    "# im_.thumbnail(im_.size, resample=0)\n",
    "t = im_.convert(\"RGBX\")\n",
    "# t.save(\"1.jpg\", \"JPEG\", quality = 100)\n",
    "t.save(\"1.tif\", \"TIFF\")"
   ]
  },
  {
   "source": [
    "# stitching two tiff files\n",
    "### more specific concatonating tiff files"
   ],
   "cell_type": "markdown",
   "metadata": {}
  },
  {
   "cell_type": "code",
   "execution_count": 4,
   "metadata": {},
   "outputs": [
    {
     "output_type": "stream",
     "name": "stdout",
     "text": [
      "HEIGHT : 13228 WIDTH : 9354\n"
     ]
    }
   ],
   "source": [
    "im1_ = Image.open(\"1.tif\")\n",
    "im2_ = Image.open(\"2.tif\")\n",
    "\n",
    "im1_w, im1_h = im1_.size\n",
    "im2_w, im2_h = im2_.size\n",
    "\n",
    "final_h = im1_h + im2_h\n",
    "final_w = im1_w\n",
    "\n",
    "print(f\"HEIGHT : {final_h} WIDTH : {final_w}\")\n",
    "final = Image.new('RGB', (final_w, final_h))\n",
    "\n",
    "final.paste(im = im1_, box = (0,0))\n",
    "final.paste(im = im2_, box = (0,im1_h))\n",
    "\n",
    "# final.resize(size = (final_w, final_h), resample=Image.HAMMING)\n",
    "\n",
    "# final.save(\"12.jpg\", \"JPEG\", quality = 10)\n",
    "\n",
    "final.save(\"12.tif\", \"TIFF\", quality = 100)"
   ]
  },
  {
   "cell_type": "code",
   "execution_count": null,
   "metadata": {},
   "outputs": [],
   "source": []
  }
 ]
}