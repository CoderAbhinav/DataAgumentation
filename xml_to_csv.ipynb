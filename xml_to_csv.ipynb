{
 "metadata": {
  "language_info": {
   "codemirror_mode": {
    "name": "ipython",
    "version": 3
   },
   "file_extension": ".py",
   "mimetype": "text/x-python",
   "name": "python",
   "nbconvert_exporter": "python",
   "pygments_lexer": "ipython3",
   "version": "3.8.5"
  },
  "orig_nbformat": 4,
  "kernelspec": {
   "name": "python3",
   "display_name": "Python 3.8.5 64-bit"
  },
  "interpreter": {
   "hash": "916dbcbb3f70747c44a77c7bcd40155683ae19c65e1c03b4aa3499c5328201f1"
  }
 },
 "nbformat": 4,
 "nbformat_minor": 2,
 "cells": [
  {
   "cell_type": "code",
   "execution_count": 70,
   "metadata": {},
   "outputs": [],
   "source": [
    "import xml.etree.ElementTree as et\n",
    "import PIL\n",
    "from PIL import Image\n",
    "import os\n"
   ]
  },
  {
   "cell_type": "code",
   "execution_count": 71,
   "metadata": {},
   "outputs": [],
   "source": [
    "def write_this(xml_file, out_csv):\n",
    "    tree = et.parse(xml_file)\n",
    "    root = tree.getroot()\n",
    "    root.tag\n",
    "    f = open(out_csv, 'a')\n",
    "    jpg_file_name = root.find(\"filename\").text\n",
    "    img = PIL.Image.open(jpg_file_name)\n",
    "    wid, hgt = img.size\n",
    "    for x in root.findall(\"object\"):\n",
    "        cls_ = x.find(\"name\").text\n",
    "        if \"tary\" in cls_:\n",
    "            cls_ = \"MILITARY\"\n",
    "        elif \"lian\" in cls_:\n",
    "            cls_ = \"CIVILIAN\"\n",
    "        z = x.find(\"bndbox\")        \n",
    "        xmin = z.find(\"xmin\").text\n",
    "        ymin = z.find(\"ymin\").text\n",
    "        xmax = z.find(\"xmax\").text\n",
    "        ymax = z.find(\"ymax\").text\n",
    "        take_this = \"{},{},{},{},{},{},{},{}\\n\".format(cls_, xmin, ymin, xmax, ymax, jpg_file_name, wid, hgt)\n",
    "        f.write(take_this)\n",
    "    f.close()"
   ]
  },
  {
   "cell_type": "code",
   "execution_count": 72,
   "metadata": {},
   "outputs": [],
   "source": [
    "write_this(\"ABC03001.xml\", \"OUT1.csv\")"
   ]
  },
  {
   "cell_type": "code",
   "execution_count": 73,
   "metadata": {},
   "outputs": [
    {
     "output_type": "stream",
     "name": "stdout",
     "text": [
      "ABC03001.xml\n"
     ]
    }
   ],
   "source": [
    "files_here = os.listdir()\n",
    "output_file_name = \"OUT1.csv\"\n",
    "# print(files_here)\n",
    "for f in files_here:\n",
    "    if \".xml\" in f:\n",
    "        print(f)\n",
    "        write_this(f, output_file_name)"
   ]
  },
  {
   "cell_type": "code",
   "execution_count": null,
   "metadata": {},
   "outputs": [],
   "source": []
  }
 ]
}